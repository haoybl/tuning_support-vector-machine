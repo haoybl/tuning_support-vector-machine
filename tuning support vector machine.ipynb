{
 "cells": [
  {
   "cell_type": "markdown",
   "metadata": {
    "collapsed": true
   },
   "source": [
    "# Tuning Support vector machine in python\n",
    "Qiudong Deng\n",
    "qddeng@gmail.com"
   ]
  },
  {
   "cell_type": "code",
   "execution_count": 1,
   "metadata": {
    "collapsed": false
   },
   "outputs": [
    {
     "name": "stdout",
     "output_type": "stream",
     "text": [
      "32561 x 15\n",
      "age                int64\n",
      "workclass         object\n",
      "fnlwgt             int64\n",
      "education         object\n",
      "education-num      int64\n",
      "marital-status    object\n",
      "occupation        object\n",
      "relationship      object\n",
      "race              object\n",
      "sex               object\n",
      "capital-gain       int64\n",
      "capital-loss       int64\n",
      "hours-per-week     int64\n",
      "native-country    object\n",
      "y                 object\n",
      "dtype: object\n",
      "age               int64\n",
      "workclass         int64\n",
      "fnlwgt            int64\n",
      "education         int64\n",
      "education-num     int64\n",
      "marital-status    int64\n",
      "occupation        int64\n",
      "relationship      int64\n",
      "race              int64\n",
      "sex               int64\n",
      "capital-gain      int64\n",
      "capital-loss      int64\n",
      "hours-per-week    int64\n",
      "native-country    int64\n",
      "y                 int64\n",
      "dtype: object\n",
      "* features:\n",
      "['age', 'workclass', 'fnlwgt', 'education', 'education-num', 'marital-status', 'occupation', 'relationship', 'race', 'sex', 'capital-gain', 'capital-loss', 'hours-per-week', 'native-country']\n",
      "             precision    recall  f1-score   support\n",
      "\n",
      "          0       0.76      1.00      0.87     12418\n",
      "          1       0.71      0.00      0.01      3863\n",
      "\n",
      "avg / total       0.75      0.76      0.66     16281\n",
      "\n",
      "[[12414     4]\n",
      " [ 3853    10]]\n"
     ]
    }
   ],
   "source": [
    "#set wd\n",
    "\n",
    "import os\n",
    "os.getcwd()\n",
    "os.chdir('E:/2016 spring course/msa 8150/final project proposal')\n",
    "os.getcwd()\n",
    "\n",
    "# import modules\n",
    "import pandas as pd\n",
    "import numpy as np\n",
    "import subprocess\n",
    "\n",
    "#read data in-1\n",
    "#data from https://archive.ics.uci.edu/ml/machine-learning-databases/\n",
    "df = pd.read_csv(\"adult with col names with na.csv\", index_col=0)\n",
    "#list(df)\n",
    "\n",
    "\n",
    "ncol = len(df.axes[1])\n",
    "nrow=len(df.axes[0])\n",
    "print(\"%s x %s\" % (nrow, ncol)) #check dimension \n",
    "print (df.dtypes) #check data types\n",
    "\n",
    "# count freq\n",
    "#df.groupby('y').count()\n",
    "\n",
    "#convert object col to int64 and rename-2\n",
    "n = ncol\n",
    "for i in range(0,n):\n",
    "       if (df.iloc[:,i].dtype==object):\n",
    "        A= df.iloc[:,i].unique()\n",
    "        map_to_int = {name: n for n, name in enumerate(A)}\n",
    "        df.iloc[:,i] = df.iloc[:,i].replace(map_to_int)\n",
    "print (df.dtypes)\n",
    "\n",
    "\n",
    "#first n-1col as features, and the last one as target\n",
    "df1=df.iloc[:,0:n]\n",
    "features = list(df1.columns[:(n-1)])\n",
    "print(\"* features:\", features, sep=\"\\n\")\n",
    "df1.rename(columns={'y':'Target'}, inplace=True)\n",
    "#list(df1)\n",
    "#df1\n",
    "\n",
    "#split data to train and test-3\n",
    "from sklearn.cross_validation import train_test_split\n",
    "\n",
    "train, test = train_test_split(df1, test_size = 0.5)\n",
    "\n",
    "y = train[\"Target\"]\n",
    "X = train[features]\n",
    "\n",
    "from sklearn import svm\n",
    "clf = svm.SVC(kernel='rbf',probability=True)\n",
    "clf.fit(X, y)  \n",
    "\n",
    "from sklearn import metrics   \n",
    "expected = test[\"Target\"]\n",
    "X1 = test[features]\n",
    "predicted_svm1 = clf.predict(X1)\n",
    "print(metrics.classification_report(expected, predicted_svm1))\n",
    "print(metrics.confusion_matrix(expected, predicted_svm1))"
   ]
  },
  {
   "cell_type": "code",
   "execution_count": 2,
   "metadata": {
    "collapsed": false
   },
   "outputs": [
    {
     "data": {
      "text/plain": [
       "0.54919987257230629"
      ]
     },
     "execution_count": 2,
     "metadata": {},
     "output_type": "execute_result"
    }
   ],
   "source": [
    "# svm roc \n",
    "probas1_ = clf.fit(X, y).predict_proba(X1)\n",
    "\n",
    "from sklearn.metrics import roc_curve, auc\n",
    "import matplotlib.pyplot as plt\n",
    "false_positive_rate_svm1, true_positive_rate_svm1, thresholds = roc_curve(expected, probas1_[:, 1])\n",
    "roc_auc_svm1 = auc(false_positive_rate_svm1, true_positive_rate_svm1)\n",
    "roc_auc_svm1"
   ]
  },
  {
   "cell_type": "code",
   "execution_count": 3,
   "metadata": {
    "collapsed": false
   },
   "outputs": [
    {
     "name": "stdout",
     "output_type": "stream",
     "text": [
      "32561 x 15\n",
      "age                int64\n",
      "workclass         object\n",
      "fnlwgt             int64\n",
      "education         object\n",
      "education-num      int64\n",
      "marital-status    object\n",
      "occupation        object\n",
      "relationship      object\n",
      "race              object\n",
      "sex               object\n",
      "capital-gain       int64\n",
      "capital-loss       int64\n",
      "hours-per-week     int64\n",
      "native-country    object\n",
      "y                 object\n",
      "dtype: object\n"
     ]
    },
    {
     "name": "stderr",
     "output_type": "stream",
     "text": [
      "C:\\Users\\qddeng\\Anaconda3\\lib\\site-packages\\sklearn\\utils\\validation.py:420: DataConversionWarning: Data with input dtype int64 was converted to float64 by the scale function.\n",
      "  warnings.warn(msg, DataConversionWarning)\n",
      "C:\\Users\\qddeng\\Anaconda3\\lib\\site-packages\\sklearn\\utils\\validation.py:420: DataConversionWarning: Data with input dtype int64 was converted to float64 by the scale function.\n",
      "  warnings.warn(msg, DataConversionWarning)\n",
      "C:\\Users\\qddeng\\Anaconda3\\lib\\site-packages\\sklearn\\utils\\validation.py:420: DataConversionWarning: Data with input dtype int64 was converted to float64 by the scale function.\n",
      "  warnings.warn(msg, DataConversionWarning)\n",
      "C:\\Users\\qddeng\\Anaconda3\\lib\\site-packages\\sklearn\\utils\\validation.py:420: DataConversionWarning: Data with input dtype int64 was converted to float64 by the scale function.\n",
      "  warnings.warn(msg, DataConversionWarning)\n",
      "C:\\Users\\qddeng\\Anaconda3\\lib\\site-packages\\sklearn\\utils\\validation.py:420: DataConversionWarning: Data with input dtype int64 was converted to float64 by the scale function.\n",
      "  warnings.warn(msg, DataConversionWarning)\n",
      "C:\\Users\\qddeng\\Anaconda3\\lib\\site-packages\\sklearn\\utils\\validation.py:420: DataConversionWarning: Data with input dtype int64 was converted to float64 by the scale function.\n",
      "  warnings.warn(msg, DataConversionWarning)\n"
     ]
    },
    {
     "name": "stdout",
     "output_type": "stream",
     "text": [
      "age               float64\n",
      "workclass           int64\n",
      "fnlwgt            float64\n",
      "education           int64\n",
      "education-num     float64\n",
      "marital-status      int64\n",
      "occupation          int64\n",
      "relationship        int64\n",
      "race                int64\n",
      "sex                 int64\n",
      "capital-gain      float64\n",
      "capital-loss      float64\n",
      "hours-per-week    float64\n",
      "native-country      int64\n",
      "y                   int64\n",
      "dtype: object\n",
      "* features:\n",
      "['age', 'workclass', 'fnlwgt', 'education', 'education-num', 'marital-status', 'occupation', 'relationship', 'race', 'sex', 'capital-gain', 'capital-loss', 'hours-per-week', 'native-country']\n",
      "             precision    recall  f1-score   support\n",
      "\n",
      "          0       0.86      0.94      0.90     12423\n",
      "          1       0.74      0.52      0.61      3858\n",
      "\n",
      "avg / total       0.84      0.84      0.83     16281\n",
      "\n",
      "[[11730   693]\n",
      " [ 1840  2018]]\n"
     ]
    }
   ],
   "source": [
    "# standarlized data \n",
    "\n",
    "import os\n",
    "os.getcwd()\n",
    "os.chdir('E:/2016 spring course/msa 8150/final project proposal')\n",
    "os.getcwd()\n",
    "\n",
    "# import modules\n",
    "import pandas as pd\n",
    "import numpy as np\n",
    "import subprocess\n",
    "\n",
    "#read data in-1\n",
    "#data from https://archive.ics.uci.edu/ml/machine-learning-databases/\n",
    "df = pd.read_csv(\"adult with col names with na.csv\", index_col=0)\n",
    "#list(df)\n",
    "\n",
    "\n",
    "ncol = len(df.axes[1])\n",
    "nrow=len(df.axes[0])\n",
    "print(\"%s x %s\" % (nrow, ncol)) #check dimension \n",
    "print (df.dtypes) #check data types\n",
    "\n",
    "# count freq\n",
    "#df.groupby('y').count()\n",
    "\n",
    "#http://scikit-learn.org/stable/modules/preprocessing.html\n",
    "#http://scikit-learn.org/stable/modules/generated/sklearn.preprocessing.StandardScaler.html\n",
    "#standard to mean to 0 and var 1\n",
    "\n",
    "from sklearn import preprocessing\n",
    "import numpy as np\n",
    "n = ncol\n",
    "\n",
    "for i in range(0,n):\n",
    "       if (df.iloc[:,i].dtype== np.int64 ):\n",
    "            df.iloc[:,i]= preprocessing.scale(df.iloc[:,i])\n",
    "            \n",
    "            \n",
    "            \n",
    "#convert object col to int64 and rename-2\n",
    "n = ncol\n",
    "for i in range(0,n):\n",
    "       if (df.iloc[:,i].dtype==object):\n",
    "        A= df.iloc[:,i].unique()\n",
    "        map_to_int = {name: n for n, name in enumerate(A)}\n",
    "        df.iloc[:,i] = df.iloc[:,i].replace(map_to_int)\n",
    "print (df.dtypes)\n",
    "#first n-1col as features, and the last one as target\n",
    "n = ncol\n",
    "df1=df.iloc[:,0:n]\n",
    "features = list(df1.columns[:(n-1)])\n",
    "print(\"* features:\", features, sep=\"\\n\")\n",
    "df1.rename(columns={'y':'Target'}, inplace=True)\n",
    "#list(df1)\n",
    "#df1\n",
    "\n",
    "#split data to train and test-3\n",
    "from sklearn.cross_validation import train_test_split\n",
    "\n",
    "train, test = train_test_split(df1, test_size = 0.5)\n",
    "\n",
    "#using train set to construct model \n",
    "y = train[\"Target\"]\n",
    "X = train[features] \n",
    "\n",
    "#http://scikit-learn.org/stable/modules/svm.html#svm-kernels\n",
    "#http://scikit-learn.org/stable/modules/generated/sklearn.svm.SVC.html\n",
    "\n",
    "#using rbf kernel\n",
    "from sklearn import svm\n",
    "clf = svm.SVC(kernel='rbf',probability=True)\n",
    "clf.fit(X, y)  \n",
    "\n",
    "from sklearn import metrics   \n",
    "expected = test[\"Target\"]\n",
    "X2 = test[features]\n",
    "predicted_svm2 = clf.predict(X2)\n",
    "print(metrics.classification_report(expected, predicted_svm2))\n",
    "print(metrics.confusion_matrix(expected, predicted_svm2))"
   ]
  },
  {
   "cell_type": "code",
   "execution_count": 4,
   "metadata": {
    "collapsed": false
   },
   "outputs": [
    {
     "data": {
      "text/plain": [
       "0.87935660861158749"
      ]
     },
     "execution_count": 4,
     "metadata": {},
     "output_type": "execute_result"
    }
   ],
   "source": [
    "# svm roc \n",
    "probas2_ = clf.fit(X, y).predict_proba(X2)\n",
    "\n",
    "from sklearn.metrics import roc_curve, auc\n",
    "import matplotlib.pyplot as plt\n",
    "\n",
    "from sklearn.metrics import roc_curve, auc\n",
    "import matplotlib.pyplot as plt\n",
    "\n",
    "false_positive_rate_svm2, true_positive_rate_svm2, thresholds = roc_curve(expected,probas2_[:,1])\n",
    "roc_auc_svm2 = auc(false_positive_rate_svm2, true_positive_rate_svm2)\n",
    "roc_auc_svm2\n"
   ]
  },
  {
   "cell_type": "code",
   "execution_count": 5,
   "metadata": {
    "collapsed": false
   },
   "outputs": [
    {
     "data": {
      "image/png": "[encoded data removed]",
      "text/plain": [
       "<matplotlib.figure.Figure at 0xaadbfb0>"
      ]
     },
     "metadata": {},
     "output_type": "display_data"
    }
   ],
   "source": [
    "import matplotlib.pyplot as plt\n",
    "%matplotlib inline\n",
    "plt.title('Data normalization is critical for SVM Model')\n",
    "plt.plot(false_positive_rate_svm1, true_positive_rate_svm1, 'g',\n",
    "label='AUC-without normalization = %0.5f'% roc_auc_svm1)\n",
    "\n",
    "plt.plot(false_positive_rate_svm2, true_positive_rate_svm2, 'b',\n",
    "label='AUC-with normalization = %0.5f'% roc_auc_svm2)\n",
    "\n",
    "plt.legend(loc='lower right')\n",
    "plt.plot([0,1],[0,1],'k--')\n",
    "plt.xlim([-0.1,1.2])\n",
    "plt.ylim([-0.1,1.2])\n",
    "plt.ylabel('True Positive Rate')\n",
    "plt.xlabel('False Positive Rate')\n",
    "plt.show()"
   ]
  },
  {
   "cell_type": "code",
   "execution_count": 6,
   "metadata": {
    "collapsed": false
   },
   "outputs": [
    {
     "name": "stdout",
     "output_type": "stream",
     "text": [
      "             precision    recall  f1-score   support\n",
      "\n",
      "          0       0.82      0.98      0.89     12423\n",
      "          1       0.83      0.30      0.44      3858\n",
      "\n",
      "avg / total       0.82      0.82      0.79     16281\n",
      "\n",
      "[[12176   247]\n",
      " [ 2686  1172]]\n"
     ]
    }
   ],
   "source": [
    "#linear svc\n",
    "from sklearn import svm\n",
    "clf = svm.SVC(kernel='linear',probability=True)\n",
    "clf.fit(X,y)  \n",
    "from sklearn import metrics   \n",
    "expected = test[\"Target\"]\n",
    "X3 = test[features]\n",
    "predicted_svm3 = clf.predict(X3)\n",
    "print(metrics.classification_report(expected, predicted_svm3))\n",
    "print(metrics.confusion_matrix(expected, predicted_svm3))"
   ]
  },
  {
   "cell_type": "code",
   "execution_count": 7,
   "metadata": {
    "collapsed": false
   },
   "outputs": [
    {
     "data": {
      "text/plain": [
       "0.84838024731047246"
      ]
     },
     "execution_count": 7,
     "metadata": {},
     "output_type": "execute_result"
    }
   ],
   "source": [
    "# svm roc \n",
    "probas3_ = clf.fit(X, y).predict_proba(X3)\n",
    "\n",
    "from sklearn.metrics import roc_curve, auc\n",
    "import matplotlib.pyplot as plt\n",
    "\n",
    "false_positive_rate_svm_linear, true_positive_rate_svm_linear, thresholds = roc_curve(expected,probas3_[:,1])\n",
    "roc_auc_svm_linear = auc(false_positive_rate_svm_linear, true_positive_rate_svm_linear)\n",
    "roc_auc_svm_linear"
   ]
  },
  {
   "cell_type": "code",
   "execution_count": 8,
   "metadata": {
    "collapsed": false
   },
   "outputs": [
    {
     "name": "stdout",
     "output_type": "stream",
     "text": [
      "             precision    recall  f1-score   support\n",
      "\n",
      "          0       0.84      0.97      0.90     12423\n",
      "          1       0.78      0.41      0.54      3858\n",
      "\n",
      "avg / total       0.83      0.83      0.81     16281\n",
      "\n",
      "[[11990   433]\n",
      " [ 2282  1576]]\n"
     ]
    }
   ],
   "source": [
    "#using Polynomial_kernel\n",
    "#https://en.wikipedia.org/wiki/Kernel_method\n",
    "from sklearn import svm\n",
    "clf = svm.SVC(kernel='poly',probability=True)\n",
    "clf.fit(X, y)  \n",
    "\n",
    "from sklearn import metrics   \n",
    "expected = test[\"Target\"]\n",
    "X3 = test[features]\n",
    "predicted_svm3 = clf.predict(X3)\n",
    "print(metrics.classification_report(expected, predicted_svm3))\n",
    "print(metrics.confusion_matrix(expected, predicted_svm3))"
   ]
  },
  {
   "cell_type": "code",
   "execution_count": 9,
   "metadata": {
    "collapsed": false
   },
   "outputs": [
    {
     "data": {
      "text/plain": [
       "0.87935660861158749"
      ]
     },
     "execution_count": 9,
     "metadata": {},
     "output_type": "execute_result"
    }
   ],
   "source": [
    "# svm pl roc \n",
    "probas3_ = clf.fit(X, y).predict_proba(X3)\n",
    "\n",
    "from sklearn.metrics import roc_curve, auc\n",
    "import matplotlib.pyplot as plt\n",
    "\n",
    "\n",
    "false_positive_rate_svm3, true_positive_rate_svm3, thresholds = roc_curve(expected,probas3_[:,1])\n",
    "roc_auc_svm3 = auc(false_positive_rate_svm2, true_positive_rate_svm2)\n",
    "roc_auc_svm3"
   ]
  },
  {
   "cell_type": "code",
   "execution_count": 10,
   "metadata": {
    "collapsed": false
   },
   "outputs": [
    {
     "data": {
      "image/png": "[encoded data removed]",
      "text/plain": [
       "<matplotlib.figure.Figure at 0xaadf090>"
      ]
     },
     "metadata": {},
     "output_type": "display_data"
    }
   ],
   "source": [
    "import matplotlib.pyplot as plt\n",
    "\n",
    "plt.title('Comparsion of linear, rbf and polynominal kernel in SVM_ROC')\n",
    "plt.plot(false_positive_rate_svm_linear, true_positive_rate_svm_linear, 'g',\n",
    "label='AUC-linear = %0.5f'% roc_auc_svm_linear)\n",
    "#rbf kernel\n",
    "plt.plot(false_positive_rate_svm2, true_positive_rate_svm2, 'b',\n",
    "label='AUC-rbf = %0.5f'% roc_auc_svm2)\n",
    "#poly kernel\n",
    "plt.plot(false_positive_rate_svm3, true_positive_rate_svm3, 'r',\n",
    "label='AUC-poly = %0.5f'% roc_auc_svm3)\n",
    "\n",
    "plt.legend(loc='lower right')\n",
    "plt.plot([0,1],[0,1],'k--')\n",
    "plt.xlim([-0.1,1.2])\n",
    "plt.ylim([-0.1,1.2])\n",
    "plt.ylabel('True Positive Rate')\n",
    "plt.xlabel('False Positive Rate')\n",
    "plt.show()"
   ]
  },
  {
   "cell_type": "code",
   "execution_count": 11,
   "metadata": {
    "collapsed": false
   },
   "outputs": [
    {
     "name": "stdout",
     "output_type": "stream",
     "text": [
      "Automatically created module for IPython interactive environment\n",
      "# Tuning hyper-parameters for precision\n",
      "\n",
      "Best parameters set found on development set:\n",
      "\n",
      "{'C': 1000, 'kernel': 'rbf', 'gamma': 0.001}\n",
      "\n",
      "Grid scores on development set:\n",
      "\n",
      "0.820 (+/-0.009) for {'C': 1, 'kernel': 'rbf', 'gamma': 0.001}\n",
      "0.818 (+/-0.001) for {'C': 1, 'kernel': 'rbf', 'gamma': 0.0001}\n",
      "0.816 (+/-0.016) for {'C': 10, 'kernel': 'rbf', 'gamma': 0.001}\n",
      "0.822 (+/-0.011) for {'C': 10, 'kernel': 'rbf', 'gamma': 0.0001}\n",
      "0.822 (+/-0.023) for {'C': 100, 'kernel': 'rbf', 'gamma': 0.001}\n",
      "0.812 (+/-0.013) for {'C': 100, 'kernel': 'rbf', 'gamma': 0.0001}\n",
      "0.830 (+/-0.016) for {'C': 1000, 'kernel': 'rbf', 'gamma': 0.001}\n",
      "0.812 (+/-0.015) for {'C': 1000, 'kernel': 'rbf', 'gamma': 0.0001}\n",
      "0.805 (+/-0.017) for {'C': 1, 'kernel': 'linear'}\n",
      "0.803 (+/-0.018) for {'C': 10, 'kernel': 'linear'}\n",
      "0.804 (+/-0.016) for {'C': 100, 'kernel': 'linear'}\n",
      "0.803 (+/-0.016) for {'C': 1000, 'kernel': 'linear'}\n",
      "\n",
      "Detailed classification report:\n",
      "\n",
      "The model is trained on the full development set.\n",
      "The scores are computed on the full evaluation set.\n",
      "\n",
      "             precision    recall  f1-score   support\n",
      "\n",
      "          0       0.86      0.94      0.90      6157\n",
      "          1       0.73      0.54      0.62      1983\n",
      "\n",
      "avg / total       0.83      0.84      0.83      8140\n",
      "\n",
      "\n",
      "# Tuning hyper-parameters for recall\n",
      "\n",
      "Best parameters set found on development set:\n",
      "\n",
      "{'C': 1000, 'kernel': 'rbf', 'gamma': 0.001}\n",
      "\n",
      "Grid scores on development set:\n",
      "\n",
      "0.783 (+/-0.005) for {'C': 1, 'kernel': 'rbf', 'gamma': 0.001}\n",
      "0.760 (+/-0.002) for {'C': 1, 'kernel': 'rbf', 'gamma': 0.0001}\n",
      "0.813 (+/-0.008) for {'C': 10, 'kernel': 'rbf', 'gamma': 0.001}\n",
      "0.783 (+/-0.004) for {'C': 10, 'kernel': 'rbf', 'gamma': 0.0001}\n",
      "0.828 (+/-0.018) for {'C': 100, 'kernel': 'rbf', 'gamma': 0.001}\n",
      "0.808 (+/-0.008) for {'C': 100, 'kernel': 'rbf', 'gamma': 0.0001}\n",
      "0.838 (+/-0.014) for {'C': 1000, 'kernel': 'rbf', 'gamma': 0.001}\n",
      "0.813 (+/-0.007) for {'C': 1000, 'kernel': 'rbf', 'gamma': 0.0001}\n",
      "0.808 (+/-0.011) for {'C': 1, 'kernel': 'linear'}\n",
      "0.807 (+/-0.011) for {'C': 10, 'kernel': 'linear'}\n",
      "0.807 (+/-0.010) for {'C': 100, 'kernel': 'linear'}\n",
      "0.808 (+/-0.010) for {'C': 1000, 'kernel': 'linear'}\n",
      "\n",
      "Detailed classification report:\n",
      "\n",
      "The model is trained on the full development set.\n",
      "The scores are computed on the full evaluation set.\n",
      "\n",
      "             precision    recall  f1-score   support\n",
      "\n",
      "          0       0.86      0.94      0.90      6157\n",
      "          1       0.73      0.54      0.62      1983\n",
      "\n",
      "avg / total       0.83      0.84      0.83      8140\n",
      "\n",
      "\n"
     ]
    }
   ],
   "source": [
    "# grid search\n",
    "from __future__ import print_function\n",
    "\n",
    "from sklearn import datasets\n",
    "from sklearn.cross_validation import train_test_split\n",
    "from sklearn.grid_search import GridSearchCV\n",
    "from sklearn.metrics import classification_report\n",
    "from sklearn.svm import SVC\n",
    "\n",
    "print(__doc__)\n",
    "\n",
    "\n",
    "X_train, X_test, y_train, y_test = train_test_split(X, y, test_size = 0.5)\n",
    "\n",
    "# Set the parameters by cross-validation\n",
    "tuned_parameters = [{'kernel': ['rbf'], 'gamma': [1e-3, 1e-4],\n",
    "                     'C': [1, 10, 100, 1000]},\n",
    "                    {'kernel': ['linear'], 'C': [1, 10, 100, 1000]}]\n",
    "\n",
    "scores = ['precision', 'recall']\n",
    "\n",
    "for score in scores:\n",
    "    print(\"# Tuning hyper-parameters for %s\" % score)\n",
    "    print()\n",
    "\n",
    "    clf = GridSearchCV(SVC(C=1), tuned_parameters, cv=5,\n",
    "                       scoring='%s_weighted' % score)\n",
    "    clf.fit(X_train, y_train)\n",
    "\n",
    "    print(\"Best parameters set found on development set:\")\n",
    "    print()\n",
    "    print(clf.best_params_)\n",
    "    print()\n",
    "    print(\"Grid scores on development set:\")\n",
    "    print()\n",
    "    for params, mean_score, scores in clf.grid_scores_:\n",
    "        print(\"%0.3f (+/-%0.03f) for %r\"\n",
    "              % (mean_score, scores.std() * 2, params))\n",
    "    print()\n",
    "\n",
    "    print(\"Detailed classification report:\")\n",
    "    print()\n",
    "    print(\"The model is trained on the full development set.\")\n",
    "    print(\"The scores are computed on the full evaluation set.\")\n",
    "    print()\n",
    "    y_true, y_pred = y_test, clf.predict(X_test)\n",
    "    print(classification_report(y_true, y_pred))\n",
    "    print()\n",
    "    "
   ]
  },
  {
   "cell_type": "code",
   "execution_count": 12,
   "metadata": {
    "collapsed": false
   },
   "outputs": [
    {
     "name": "stdout",
     "output_type": "stream",
     "text": [
      "             precision    recall  f1-score   support\n",
      "\n",
      "          0       0.87      0.95      0.91     12423\n",
      "          1       0.76      0.54      0.63      3858\n",
      "\n",
      "avg / total       0.84      0.85      0.84     16281\n",
      "\n",
      "[[11768   655]\n",
      " [ 1775  2083]]\n"
     ]
    }
   ],
   "source": [
    "#below use the best parameters found in grid search \n",
    "from sklearn import svm\n",
    "clf = svm.SVC(kernel='rbf',gamma=0.001,C=1000,probability=True)\n",
    "clf.fit(X, y)  \n",
    "\n",
    "from sklearn import metrics   \n",
    "expected = test[\"Target\"]\n",
    "X4 = test[features]\n",
    "predicted_svm4 = clf.predict(X4)\n",
    "print(metrics.classification_report(expected, predicted_svm4))\n",
    "print(metrics.confusion_matrix(expected, predicted_svm4))"
   ]
  },
  {
   "cell_type": "code",
   "execution_count": 13,
   "metadata": {
    "collapsed": false
   },
   "outputs": [
    {
     "data": {
      "text/plain": [
       "0.89719133313778965"
      ]
     },
     "execution_count": 13,
     "metadata": {},
     "output_type": "execute_result"
    }
   ],
   "source": [
    "probas4_ = clf.fit(X, y).predict_proba(X4)\n",
    "\n",
    "from sklearn.metrics import roc_curve, auc\n",
    "import matplotlib.pyplot as plt\n",
    "\n",
    "# svm4 roc \n",
    "false_positive_rate_svm4, true_positive_rate_svm4, thresholds = roc_curve(expected,probas4_[:,1])\n",
    "roc_auc_svm4 = auc(false_positive_rate_svm4, true_positive_rate_svm4)\n",
    "roc_auc_svm4\n",
    "            "
   ]
  },
  {
   "cell_type": "code",
   "execution_count": 14,
   "metadata": {
    "collapsed": false
   },
   "outputs": [
    {
     "data": {
      "image/png": "[encoded data removed]",
      "text/plain": [
       "<matplotlib.figure.Figure at 0xaadbf30>"
      ]
     },
     "metadata": {},
     "output_type": "display_data"
    }
   ],
   "source": [
    "import matplotlib.pyplot as plt\n",
    "%matplotlib inline\n",
    "plt.title('Comparsion of default parameters and optimized parameters-SVM_ROC')\n",
    "\n",
    "#rbf kernel\n",
    "plt.plot(false_positive_rate_svm2, true_positive_rate_svm2, 'b',\n",
    "label='AUC-rbf-default = %0.5f'% roc_auc_svm2)\n",
    "#optimized kernel\n",
    "plt.plot(false_positive_rate_svm4, true_positive_rate_svm4, 'r',\n",
    "label='AUC-rbf-optimized from grid search = %0.5f'% roc_auc_svm4)\n",
    "\n",
    "plt.legend(loc='lower right')\n",
    "plt.plot([0,1],[0,1],'k--')\n",
    "plt.xlim([-0.1,1.2])\n",
    "plt.ylim([-0.1,1.2])\n",
    "plt.ylabel('True Positive Rate')\n",
    "plt.xlabel('False Positive Rate')\n",
    "plt.show()"
   ]
  },
  {
   "cell_type": "code",
   "execution_count": null,
   "metadata": {
    "collapsed": true
   },
   "outputs": [],
   "source": []
  }
 ],
 "metadata": {
  "kernelspec": {
   "display_name": "Python 3",
   "language": "python",
   "name": "python3"
  },
  "language_info": {
   "codemirror_mode": {
    "name": "ipython",
    "version": 3
   },
   "file_extension": ".py",
   "mimetype": "text/x-python",
   "name": "python",
   "nbconvert_exporter": "python",
   "pygments_lexer": "ipython3",
   "version": "3.5.1"
  }
 },
 "nbformat": 4,
 "nbformat_minor": 0
}
